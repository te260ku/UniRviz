{
  "nbformat": 4,
  "nbformat_minor": 0,
  "metadata": {
    "colab": {
      "provenance": [],
      "authorship_tag": "ABX9TyOHTrd2jOkWjJ5qq7c3CrYs",
      "include_colab_link": true
    },
    "kernelspec": {
      "name": "python3",
      "display_name": "Python 3"
    },
    "language_info": {
      "name": "python"
    }
  },
  "cells": [
    {
      "cell_type": "markdown",
      "metadata": {
        "id": "view-in-github",
        "colab_type": "text"
      },
      "source": [
        "<a href=\"https://colab.research.google.com/github/te260ku/UniRviz/blob/main/IntroductionToControlEngineering.ipynb\" target=\"_parent\"><img src=\"https://colab.research.google.com/assets/colab-badge.svg\" alt=\"Open In Colab\"/></a>"
      ]
    },
    {
      "cell_type": "code",
      "source": [
        "pip install control"
      ],
      "metadata": {
        "colab": {
          "base_uri": "https://localhost:8080/"
        },
        "id": "3JlW4nfADoh3",
        "outputId": "37fa2f19-5d4b-42af-a3ee-caf8c66e92cc"
      },
      "execution_count": 6,
      "outputs": [
        {
          "output_type": "stream",
          "name": "stdout",
          "text": [
            "Looking in indexes: https://pypi.org/simple, https://us-python.pkg.dev/colab-wheels/public/simple/\n",
            "Collecting control\n",
            "  Downloading control-0.9.2.tar.gz (398 kB)\n",
            "\u001b[?25l\r\u001b[K     |▉                               | 10 kB 18.3 MB/s eta 0:00:01\r\u001b[K     |█▋                              | 20 kB 8.4 MB/s eta 0:00:01\r\u001b[K     |██▌                             | 30 kB 11.5 MB/s eta 0:00:01\r\u001b[K     |███▎                            | 40 kB 4.6 MB/s eta 0:00:01\r\u001b[K     |████▏                           | 51 kB 4.6 MB/s eta 0:00:01\r\u001b[K     |█████                           | 61 kB 5.5 MB/s eta 0:00:01\r\u001b[K     |█████▊                          | 71 kB 5.9 MB/s eta 0:00:01\r\u001b[K     |██████▋                         | 81 kB 5.7 MB/s eta 0:00:01\r\u001b[K     |███████▍                        | 92 kB 6.3 MB/s eta 0:00:01\r\u001b[K     |████████▎                       | 102 kB 5.3 MB/s eta 0:00:01\r\u001b[K     |█████████                       | 112 kB 5.3 MB/s eta 0:00:01\r\u001b[K     |█████████▉                      | 122 kB 5.3 MB/s eta 0:00:01\r\u001b[K     |██████████▊                     | 133 kB 5.3 MB/s eta 0:00:01\r\u001b[K     |███████████▌                    | 143 kB 5.3 MB/s eta 0:00:01\r\u001b[K     |████████████▍                   | 153 kB 5.3 MB/s eta 0:00:01\r\u001b[K     |█████████████▏                  | 163 kB 5.3 MB/s eta 0:00:01\r\u001b[K     |██████████████                  | 174 kB 5.3 MB/s eta 0:00:01\r\u001b[K     |██████████████▉                 | 184 kB 5.3 MB/s eta 0:00:01\r\u001b[K     |███████████████▋                | 194 kB 5.3 MB/s eta 0:00:01\r\u001b[K     |████████████████▌               | 204 kB 5.3 MB/s eta 0:00:01\r\u001b[K     |█████████████████▎              | 215 kB 5.3 MB/s eta 0:00:01\r\u001b[K     |██████████████████              | 225 kB 5.3 MB/s eta 0:00:01\r\u001b[K     |███████████████████             | 235 kB 5.3 MB/s eta 0:00:01\r\u001b[K     |███████████████████▊            | 245 kB 5.3 MB/s eta 0:00:01\r\u001b[K     |████████████████████▋           | 256 kB 5.3 MB/s eta 0:00:01\r\u001b[K     |█████████████████████▍          | 266 kB 5.3 MB/s eta 0:00:01\r\u001b[K     |██████████████████████▏         | 276 kB 5.3 MB/s eta 0:00:01\r\u001b[K     |███████████████████████         | 286 kB 5.3 MB/s eta 0:00:01\r\u001b[K     |███████████████████████▉        | 296 kB 5.3 MB/s eta 0:00:01\r\u001b[K     |████████████████████████▊       | 307 kB 5.3 MB/s eta 0:00:01\r\u001b[K     |█████████████████████████▌      | 317 kB 5.3 MB/s eta 0:00:01\r\u001b[K     |██████████████████████████▍     | 327 kB 5.3 MB/s eta 0:00:01\r\u001b[K     |███████████████████████████▏    | 337 kB 5.3 MB/s eta 0:00:01\r\u001b[K     |████████████████████████████    | 348 kB 5.3 MB/s eta 0:00:01\r\u001b[K     |████████████████████████████▉   | 358 kB 5.3 MB/s eta 0:00:01\r\u001b[K     |█████████████████████████████▋  | 368 kB 5.3 MB/s eta 0:00:01\r\u001b[K     |██████████████████████████████▌ | 378 kB 5.3 MB/s eta 0:00:01\r\u001b[K     |███████████████████████████████▎| 389 kB 5.3 MB/s eta 0:00:01\r\u001b[K     |████████████████████████████████| 398 kB 5.3 MB/s \n",
            "\u001b[?25hRequirement already satisfied: numpy in /usr/local/lib/python3.7/dist-packages (from control) (1.21.6)\n",
            "Requirement already satisfied: scipy in /usr/local/lib/python3.7/dist-packages (from control) (1.7.3)\n",
            "Requirement already satisfied: matplotlib in /usr/local/lib/python3.7/dist-packages (from control) (3.2.2)\n",
            "Requirement already satisfied: cycler>=0.10 in /usr/local/lib/python3.7/dist-packages (from matplotlib->control) (0.11.0)\n",
            "Requirement already satisfied: python-dateutil>=2.1 in /usr/local/lib/python3.7/dist-packages (from matplotlib->control) (2.8.2)\n",
            "Requirement already satisfied: pyparsing!=2.0.4,!=2.1.2,!=2.1.6,>=2.0.1 in /usr/local/lib/python3.7/dist-packages (from matplotlib->control) (3.0.9)\n",
            "Requirement already satisfied: kiwisolver>=1.0.1 in /usr/local/lib/python3.7/dist-packages (from matplotlib->control) (1.4.4)\n",
            "Requirement already satisfied: typing-extensions in /usr/local/lib/python3.7/dist-packages (from kiwisolver>=1.0.1->matplotlib->control) (4.1.1)\n",
            "Requirement already satisfied: six>=1.5 in /usr/local/lib/python3.7/dist-packages (from python-dateutil>=2.1->matplotlib->control) (1.15.0)\n",
            "Building wheels for collected packages: control\n",
            "  Building wheel for control (setup.py) ... \u001b[?25l\u001b[?25hdone\n",
            "  Created wheel for control: filename=control-0.9.2-py2.py3-none-any.whl size=403205 sha256=b62050e2707eac204d3937bd4d03c6d0ec55a96e6b089d1adf8f2a09ac2f8f8a\n",
            "  Stored in directory: /root/.cache/pip/wheels/48/ef/c2/929bb5c59a1328df00a0561d0e68cd7c8537f33f5ce0ce741b\n",
            "Successfully built control\n",
            "Installing collected packages: control\n",
            "Successfully installed control-0.9.2\n"
          ]
        }
      ]
    },
    {
      "cell_type": "code",
      "source": [
        "import control"
      ],
      "metadata": {
        "id": "5iL3WCEODc5p"
      },
      "execution_count": 7,
      "outputs": []
    },
    {
      "cell_type": "markdown",
      "source": [
        "# 第3章"
      ],
      "metadata": {
        "id": "SdLH_aelDVSC"
      }
    },
    {
      "cell_type": "markdown",
      "source": [
        "伝達関数モデルを記述する"
      ],
      "metadata": {
        "id": "h3Ckdm8DDZRY"
      }
    },
    {
      "cell_type": "code",
      "source": [
        "Np = [1]\n",
        "Dp = [1 ,2, 3]\n",
        "P = control.tf(Np, Dp)\n",
        "print(P)"
      ],
      "metadata": {
        "colab": {
          "base_uri": "https://localhost:8080/"
        },
        "id": "aSEFt6ZODy2T",
        "outputId": "d7eacc95-553f-4208-b969-f9ff0aad566d"
      },
      "execution_count": 8,
      "outputs": [
        {
          "output_type": "stream",
          "name": "stdout",
          "text": [
            "\n",
            "      1\n",
            "-------------\n",
            "s^2 + 2 s + 3\n",
            "\n"
          ]
        }
      ]
    },
    {
      "cell_type": "code",
      "source": [
        "Np = [1, 2]\n",
        "Dp = [1 ,5, 3, 4]\n",
        "P = control.tf(Np, Dp)\n",
        "print(P)"
      ],
      "metadata": {
        "colab": {
          "base_uri": "https://localhost:8080/"
        },
        "id": "Sb-yAcIeDzNn",
        "outputId": "d6119b68-60f9-4eb6-f626-0d2477257e85"
      },
      "execution_count": 9,
      "outputs": [
        {
          "output_type": "stream",
          "name": "stdout",
          "text": [
            "\n",
            "        s + 2\n",
            "---------------------\n",
            "s^3 + 5 s^2 + 3 s + 4\n",
            "\n"
          ]
        }
      ]
    },
    {
      "cell_type": "markdown",
      "source": [
        "状態空間モデルを記述する"
      ],
      "metadata": {
        "id": "S0cKmzXKHRSu"
      }
    },
    {
      "cell_type": "code",
      "source": [
        "A = '1 1 2; 2 1 1; 3 4 5'\n",
        "B = '2; 0; 1'\n",
        "C = '1 1 0'\n",
        "D = '0'\n",
        "P = control.ss(A, B, C, D)\n",
        "print(P)"
      ],
      "metadata": {
        "colab": {
          "base_uri": "https://localhost:8080/"
        },
        "id": "xNrH93gnD06t",
        "outputId": "76f9ab45-e9ba-4e6a-a4ce-5c004c84af3e"
      },
      "execution_count": 13,
      "outputs": [
        {
          "output_type": "stream",
          "name": "stdout",
          "text": [
            "<LinearIOSystem>: sys[7]\n",
            "Inputs (1): ['u[0]']\n",
            "Outputs (1): ['y[0]']\n",
            "States (3): ['x[0]', 'x[1]', 'x[2]']\n",
            "\n",
            "A = [[1. 1. 2.]\n",
            "     [2. 1. 1.]\n",
            "     [3. 4. 5.]]\n",
            "\n",
            "B = [[2.]\n",
            "     [0.]\n",
            "     [1.]]\n",
            "\n",
            "C = [[1. 1. 0.]]\n",
            "\n",
            "D = [[0.]]\n",
            "\n"
          ]
        }
      ]
    },
    {
      "cell_type": "markdown",
      "source": [
        "ブロック線図を記述する"
      ],
      "metadata": {
        "id": "XQJKzUH8MLfl"
      }
    },
    {
      "cell_type": "code",
      "source": [
        "S1 = control.tf([0, 1], [1, 1])\n",
        "S2 = control.tf([1, 1], [1, 1, 1])\n",
        "# 直列結合\n",
        "SD = S1 * S2\n",
        "# 並列結合\n",
        "SP = S1 + S2\n",
        "# フィードバック結合\n",
        "SF = control.feedback(S1, S2)\n",
        "print(SD)\n",
        "print(SP)\n",
        "print(SF)"
      ],
      "metadata": {
        "colab": {
          "base_uri": "https://localhost:8080/"
        },
        "id": "Wh1BKRSjH0NJ",
        "outputId": "ab4a1d86-36d9-409b-9071-116301c54c67"
      },
      "execution_count": 18,
      "outputs": [
        {
          "output_type": "stream",
          "name": "stdout",
          "text": [
            "\n",
            "        s + 1\n",
            "---------------------\n",
            "s^3 + 2 s^2 + 2 s + 1\n",
            "\n",
            "\n",
            "   2 s^2 + 3 s + 2\n",
            "---------------------\n",
            "s^3 + 2 s^2 + 2 s + 1\n",
            "\n",
            "\n",
            "     s^2 + s + 1\n",
            "---------------------\n",
            "s^3 + 2 s^2 + 3 s + 2\n",
            "\n"
          ]
        }
      ]
    },
    {
      "cell_type": "code",
      "source": [
        "S1 = control.tf([1], [1, 1])\n",
        "S2 = control.tf([1], [1, 2])\n",
        "S3 = control.tf([3, 1], [1, 0])\n",
        "S4 = control.tf([0], [2, 0])\n",
        "SF1 = control.feedback(S1, S2)\n",
        "SD = S3 * SF1\n",
        "S = control.feedback(SD, S4)\n",
        "print(S)"
      ],
      "metadata": {
        "colab": {
          "base_uri": "https://localhost:8080/"
        },
        "id": "We-dCE4QMzwZ",
        "outputId": "35df4d1b-6787-49a8-a4be-1f3732b94c07"
      },
      "execution_count": 19,
      "outputs": [
        {
          "output_type": "stream",
          "name": "stdout",
          "text": [
            "\n",
            " 3 s^2 + 7 s + 2\n",
            "-----------------\n",
            "s^3 + 3 s^2 + 3 s\n",
            "\n"
          ]
        }
      ]
    },
    {
      "cell_type": "code",
      "source": [],
      "metadata": {
        "id": "oWiC3vXYOCsG"
      },
      "execution_count": null,
      "outputs": []
    }
  ]
}